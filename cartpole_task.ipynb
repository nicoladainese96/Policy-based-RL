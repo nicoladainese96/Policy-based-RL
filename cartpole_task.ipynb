{
 "cells": [
  {
   "cell_type": "markdown",
   "metadata": {},
   "source": [
    "# Solving cartpole task with policy-based RL algorithms\n",
    "\n",
    "**Decription of the task:**\n",
    "A pole is attached by an un-actuated joint to a cart, which moves along a frictionless track. The system is controlled by applying a force of +1 or -1 to the cart. The pendulum starts upright, and the goal is to prevent it from falling over. A reward of +1 is provided for every timestep that the pole remains upright. The episode ends when the pole is more than 15 degrees from vertical, or the cart moves more than 2.4 units from the center."
   ]
  },
  {
   "cell_type": "code",
   "execution_count": 1,
   "metadata": {},
   "outputs": [],
   "source": [
    "import numpy as np\n",
    "import matplotlib.pyplot as plt\n",
    "import torch\n",
    "import gym"
   ]
  },
  {
   "cell_type": "markdown",
   "metadata": {},
   "source": [
    "# Vanilla Policy-Gradient "
   ]
  },
  {
   "cell_type": "code",
   "execution_count": 2,
   "metadata": {},
   "outputs": [],
   "source": [
    "import PolicyGradient"
   ]
  },
  {
   "cell_type": "code",
   "execution_count": 3,
   "metadata": {},
   "outputs": [
    {
     "data": {
      "text/plain": [
       "<module 'PolicyGradient' from '/home/nicola/Nicola_unipd/MasterThesis/Policy-based-RL/PolicyGradient.py'>"
      ]
     },
     "execution_count": 3,
     "metadata": {},
     "output_type": "execute_result"
    }
   ],
   "source": [
    "from importlib import reload\n",
    "reload(PolicyGradient)"
   ]
  },
  {
   "cell_type": "code",
   "execution_count": 4,
   "metadata": {},
   "outputs": [],
   "source": [
    "def play_episode(agent, env, return_states=False):\n",
    "    # Reset environment (start of an episode)\n",
    "    state = env.reset()\n",
    "    rewards = []\n",
    "    log_probs = []\n",
    "    done = []\n",
    "    \n",
    "    if return_states:\n",
    "        states = [state]\n",
    "        \n",
    "        \n",
    "    steps = 0\n",
    "    while True:\n",
    "        action, log_prob = agent.get_action(state, return_log = True)\n",
    "        new_state, reward, terminal, info = env.step(action) # gym standard step's output\n",
    "        \n",
    "        if return_states:\n",
    "            states.append(new_state)\n",
    "            \n",
    "        if terminal and 'TimeLimit.truncated' not in info:\n",
    "            # give -1 if cartpole falls but not if episode is truncated\n",
    "            reward = -1 \n",
    "            \n",
    "        rewards.append(reward)\n",
    "        log_probs.append(log_prob)\n",
    "        done.append(terminal)\n",
    "        \n",
    "        if terminal:\n",
    "            break\n",
    "            \n",
    "        state = new_state\n",
    "       \n",
    "    rewards = np.array(rewards)\n",
    "    done = np.array(done)\n",
    "    \n",
    "    if return_states:\n",
    "        return rewards, log_probs, np.array(states), done\n",
    "    else:\n",
    "        return rewards, log_probs, done"
   ]
  },
  {
   "cell_type": "code",
   "execution_count": 5,
   "metadata": {
    "scrolled": true
   },
   "outputs": [],
   "source": [
    "def train_cartpole(n_episodes = 100, lr = 0.01, gamma = 0.99):\n",
    "    # Create environment\n",
    "    env = gym.make(\"CartPole-v1\")\n",
    "    observation_space = env.observation_space.shape[0]\n",
    "    action_space = env.action_space.n\n",
    "    # Init agent\n",
    "    agent = PolicyGradient.PolicyGrad(observation_space, action_space, lr, gamma)\n",
    "    performance = []\n",
    "    losses = []\n",
    "    for e in range(n_episodes):\n",
    "        rewards, log_probs, _ = play_episode(agent, env)\n",
    "        performance.append(np.sum(rewards))\n",
    "        if (e+1)%10 == 0:\n",
    "            print(\"Episode %d - reward: %.0f\"%(e+1, np.mean(performance[-10:])))\n",
    "        \n",
    "        loss = agent.update(rewards, log_probs)\n",
    "        losses.append(loss)\n",
    "    return agent, np.array(performance), np.array(losses)"
   ]
  },
  {
   "cell_type": "code",
   "execution_count": 6,
   "metadata": {
    "scrolled": true
   },
   "outputs": [
    {
     "name": "stdout",
     "output_type": "stream",
     "text": [
      "Episode 10 - reward: 25\n",
      "Episode 20 - reward: 33\n",
      "Episode 30 - reward: 30\n",
      "Episode 40 - reward: 25\n",
      "Episode 50 - reward: 51\n",
      "Episode 60 - reward: 96\n"
     ]
    },
    {
     "ename": "KeyboardInterrupt",
     "evalue": "",
     "output_type": "error",
     "traceback": [
      "\u001b[0;31m---------------------------------------------------------------------------\u001b[0m",
      "\u001b[0;31mKeyboardInterrupt\u001b[0m                         Traceback (most recent call last)",
      "\u001b[0;32m<timed exec>\u001b[0m in \u001b[0;36m<module>\u001b[0;34m\u001b[0m\n",
      "\u001b[0;32m<ipython-input-5-2c17a58bebbe>\u001b[0m in \u001b[0;36mtrain_cartpole\u001b[0;34m(n_episodes, lr, gamma)\u001b[0m\n\u001b[1;32m     14\u001b[0m             \u001b[0mprint\u001b[0m\u001b[0;34m(\u001b[0m\u001b[0;34m\"Episode %d - reward: %.0f\"\u001b[0m\u001b[0;34m%\u001b[0m\u001b[0;34m(\u001b[0m\u001b[0me\u001b[0m\u001b[0;34m+\u001b[0m\u001b[0;36m1\u001b[0m\u001b[0;34m,\u001b[0m \u001b[0mnp\u001b[0m\u001b[0;34m.\u001b[0m\u001b[0mmean\u001b[0m\u001b[0;34m(\u001b[0m\u001b[0mperformance\u001b[0m\u001b[0;34m[\u001b[0m\u001b[0;34m-\u001b[0m\u001b[0;36m10\u001b[0m\u001b[0;34m:\u001b[0m\u001b[0;34m]\u001b[0m\u001b[0;34m)\u001b[0m\u001b[0;34m)\u001b[0m\u001b[0;34m)\u001b[0m\u001b[0;34m\u001b[0m\u001b[0;34m\u001b[0m\u001b[0m\n\u001b[1;32m     15\u001b[0m \u001b[0;34m\u001b[0m\u001b[0m\n\u001b[0;32m---> 16\u001b[0;31m         \u001b[0mloss\u001b[0m \u001b[0;34m=\u001b[0m \u001b[0magent\u001b[0m\u001b[0;34m.\u001b[0m\u001b[0mupdate\u001b[0m\u001b[0;34m(\u001b[0m\u001b[0mrewards\u001b[0m\u001b[0;34m,\u001b[0m \u001b[0mlog_probs\u001b[0m\u001b[0;34m)\u001b[0m\u001b[0;34m\u001b[0m\u001b[0;34m\u001b[0m\u001b[0m\n\u001b[0m\u001b[1;32m     17\u001b[0m         \u001b[0mlosses\u001b[0m\u001b[0;34m.\u001b[0m\u001b[0mappend\u001b[0m\u001b[0;34m(\u001b[0m\u001b[0mloss\u001b[0m\u001b[0;34m)\u001b[0m\u001b[0;34m\u001b[0m\u001b[0;34m\u001b[0m\u001b[0m\n\u001b[1;32m     18\u001b[0m     \u001b[0;32mreturn\u001b[0m \u001b[0magent\u001b[0m\u001b[0;34m,\u001b[0m \u001b[0mnp\u001b[0m\u001b[0;34m.\u001b[0m\u001b[0marray\u001b[0m\u001b[0;34m(\u001b[0m\u001b[0mperformance\u001b[0m\u001b[0;34m)\u001b[0m\u001b[0;34m,\u001b[0m \u001b[0mnp\u001b[0m\u001b[0;34m.\u001b[0m\u001b[0marray\u001b[0m\u001b[0;34m(\u001b[0m\u001b[0mlosses\u001b[0m\u001b[0;34m)\u001b[0m\u001b[0;34m\u001b[0m\u001b[0;34m\u001b[0m\u001b[0m\n",
      "\u001b[0;32m~/Nicola_unipd/MasterThesis/Policy-based-RL/PolicyGradient.py\u001b[0m in \u001b[0;36mupdate\u001b[0;34m(self, rewards, log_probs)\u001b[0m\n\u001b[1;32m     77\u001b[0m \u001b[0;34m\u001b[0m\u001b[0m\n\u001b[1;32m     78\u001b[0m         \u001b[0mself\u001b[0m\u001b[0;34m.\u001b[0m\u001b[0moptim\u001b[0m\u001b[0;34m.\u001b[0m\u001b[0mzero_grad\u001b[0m\u001b[0;34m(\u001b[0m\u001b[0;34m)\u001b[0m\u001b[0;34m\u001b[0m\u001b[0;34m\u001b[0m\u001b[0m\n\u001b[0;32m---> 79\u001b[0;31m         \u001b[0mpolicy_grad\u001b[0m\u001b[0;34m.\u001b[0m\u001b[0mbackward\u001b[0m\u001b[0;34m(\u001b[0m\u001b[0;34m)\u001b[0m\u001b[0;34m\u001b[0m\u001b[0;34m\u001b[0m\u001b[0m\n\u001b[0m\u001b[1;32m     80\u001b[0m         \u001b[0mself\u001b[0m\u001b[0;34m.\u001b[0m\u001b[0moptim\u001b[0m\u001b[0;34m.\u001b[0m\u001b[0mstep\u001b[0m\u001b[0;34m(\u001b[0m\u001b[0;34m)\u001b[0m\u001b[0;34m\u001b[0m\u001b[0;34m\u001b[0m\u001b[0m\n\u001b[1;32m     81\u001b[0m         \u001b[0;32mreturn\u001b[0m \u001b[0mpolicy_grad\u001b[0m\u001b[0;34m.\u001b[0m\u001b[0mitem\u001b[0m\u001b[0;34m(\u001b[0m\u001b[0;34m)\u001b[0m\u001b[0;34m\u001b[0m\u001b[0;34m\u001b[0m\u001b[0m\n",
      "\u001b[0;32m~/anaconda3/envs/torch/lib/python3.7/site-packages/torch/tensor.py\u001b[0m in \u001b[0;36mbackward\u001b[0;34m(self, gradient, retain_graph, create_graph)\u001b[0m\n\u001b[1;32m    193\u001b[0m                 \u001b[0mproducts\u001b[0m\u001b[0;34m.\u001b[0m \u001b[0mDefaults\u001b[0m \u001b[0mto\u001b[0m\u001b[0;31m \u001b[0m\u001b[0;31m`\u001b[0m\u001b[0;31m`\u001b[0m\u001b[0;32mFalse\u001b[0m\u001b[0;31m`\u001b[0m\u001b[0;31m`\u001b[0m\u001b[0;34m.\u001b[0m\u001b[0;34m\u001b[0m\u001b[0;34m\u001b[0m\u001b[0m\n\u001b[1;32m    194\u001b[0m         \"\"\"\n\u001b[0;32m--> 195\u001b[0;31m         \u001b[0mtorch\u001b[0m\u001b[0;34m.\u001b[0m\u001b[0mautograd\u001b[0m\u001b[0;34m.\u001b[0m\u001b[0mbackward\u001b[0m\u001b[0;34m(\u001b[0m\u001b[0mself\u001b[0m\u001b[0;34m,\u001b[0m \u001b[0mgradient\u001b[0m\u001b[0;34m,\u001b[0m \u001b[0mretain_graph\u001b[0m\u001b[0;34m,\u001b[0m \u001b[0mcreate_graph\u001b[0m\u001b[0;34m)\u001b[0m\u001b[0;34m\u001b[0m\u001b[0;34m\u001b[0m\u001b[0m\n\u001b[0m\u001b[1;32m    196\u001b[0m \u001b[0;34m\u001b[0m\u001b[0m\n\u001b[1;32m    197\u001b[0m     \u001b[0;32mdef\u001b[0m \u001b[0mregister_hook\u001b[0m\u001b[0;34m(\u001b[0m\u001b[0mself\u001b[0m\u001b[0;34m,\u001b[0m \u001b[0mhook\u001b[0m\u001b[0;34m)\u001b[0m\u001b[0;34m:\u001b[0m\u001b[0;34m\u001b[0m\u001b[0;34m\u001b[0m\u001b[0m\n",
      "\u001b[0;32m~/anaconda3/envs/torch/lib/python3.7/site-packages/torch/autograd/__init__.py\u001b[0m in \u001b[0;36mbackward\u001b[0;34m(tensors, grad_tensors, retain_graph, create_graph, grad_variables)\u001b[0m\n\u001b[1;32m     97\u001b[0m     Variable._execution_engine.run_backward(\n\u001b[1;32m     98\u001b[0m         \u001b[0mtensors\u001b[0m\u001b[0;34m,\u001b[0m \u001b[0mgrad_tensors\u001b[0m\u001b[0;34m,\u001b[0m \u001b[0mretain_graph\u001b[0m\u001b[0;34m,\u001b[0m \u001b[0mcreate_graph\u001b[0m\u001b[0;34m,\u001b[0m\u001b[0;34m\u001b[0m\u001b[0;34m\u001b[0m\u001b[0m\n\u001b[0;32m---> 99\u001b[0;31m         allow_unreachable=True)  # allow_unreachable flag\n\u001b[0m\u001b[1;32m    100\u001b[0m \u001b[0;34m\u001b[0m\u001b[0m\n\u001b[1;32m    101\u001b[0m \u001b[0;34m\u001b[0m\u001b[0m\n",
      "\u001b[0;31mKeyboardInterrupt\u001b[0m: "
     ]
    }
   ],
   "source": [
    "%%time\n",
    "trained_agentPG, cumulative_rewardPG, lossesPG = train_cartpole(n_episodes = 500, lr=5e-3)"
   ]
  },
  {
   "cell_type": "code",
   "execution_count": 36,
   "metadata": {},
   "outputs": [],
   "source": [
    "T = False\n",
    "if T:\n",
    "    n_runs = 30\n",
    "    results_v0 = []\n",
    "    for i in range(n_runs):\n",
    "        trained_agentPG, cumulative_rewardPG, lossesPG = train_cartpole(n_episodes = 500, lr=5e-3)\n",
    "        results_v0.append(cumulative_rewardPG)"
   ]
  },
  {
   "cell_type": "code",
   "execution_count": 37,
   "metadata": {},
   "outputs": [],
   "source": [
    "if T:\n",
    "    np.save('Results/REINFORCE_perf', results_v0)"
   ]
  },
  {
   "cell_type": "code",
   "execution_count": 38,
   "metadata": {},
   "outputs": [
    {
     "data": {
      "image/png": "[encoded data removed]",
      "text/plain": [
       "<Figure size 432x288 with 1 Axes>"
      ]
     },
     "metadata": {
      "needs_background": "light"
     },
     "output_type": "display_data"
    }
   ],
   "source": [
    "episodes = np.arange(1,len(cumulative_rewardPG)+1)\n",
    "plt.plot(episodes, cumulative_rewardPG)\n",
    "plt.show()"
   ]
  },
  {
   "cell_type": "code",
   "execution_count": 39,
   "metadata": {},
   "outputs": [
    {
     "data": {
      "image/png": "[encoded data removed]",
      "text/plain": [
       "<Figure size 432x288 with 1 Axes>"
      ]
     },
     "metadata": {
      "needs_background": "light"
     },
     "output_type": "display_data"
    }
   ],
   "source": [
    "plt.plot(episodes, lossesPG)\n",
    "plt.show()"
   ]
  },
  {
   "cell_type": "code",
   "execution_count": 7,
   "metadata": {},
   "outputs": [],
   "source": [
    "def render_test_episode(agent):\n",
    "    # Create environment\n",
    "    env = gym.make(\"CartPole-v1\")\n",
    "    observation_space = env.observation_space.shape[0]\n",
    "    action_space = env.action_space.n\n",
    "    state = env.reset()\n",
    "    while True:\n",
    "        env.render()\n",
    "        action = agent.get_action(state, return_log = False)\n",
    "        new_state, reward, terminal, info = env.step(action) # gym standard step's output\n",
    "        if terminal: \n",
    "            break\n",
    "        else: \n",
    "            state = new_state\n",
    "    env.close()"
   ]
  },
  {
   "cell_type": "code",
   "execution_count": 41,
   "metadata": {},
   "outputs": [],
   "source": [
    "render_test_episode(trained_agentPG) "
   ]
  },
  {
   "cell_type": "markdown",
   "metadata": {},
   "source": [
    "# Advantage Actor-Critic - trajectory version"
   ]
  },
  {
   "cell_type": "code",
   "execution_count": 25,
   "metadata": {},
   "outputs": [],
   "source": [
    "import ActorCritic"
   ]
  },
  {
   "cell_type": "code",
   "execution_count": 80,
   "metadata": {},
   "outputs": [
    {
     "data": {
      "text/plain": [
       "<module 'ActorCritic' from '/home/nicola/Nicola_unipd/MasterThesis/Policy-based-RL/ActorCritic.py'>"
      ]
     },
     "execution_count": 80,
     "metadata": {},
     "output_type": "execute_result"
    }
   ],
   "source": [
    "from importlib import reload\n",
    "reload(ActorCritic)"
   ]
  },
  {
   "cell_type": "code",
   "execution_count": 81,
   "metadata": {},
   "outputs": [],
   "source": [
    "class experience_buffer():\n",
    "    def __init__(self, r_list, logp_list, s_list, done_list):\n",
    "        self.r_list = r_list\n",
    "        self.logp_list = logp_list\n",
    "        self.s_list = s_list\n",
    "        self.done_list = done_list\n",
    "    \n",
    "    def get_exp(self):\n",
    "        L = np.min([len(r) for r in self.r_list])\n",
    "        r_list_final = np.array([x[-L:] for x in self.r_list])\n",
    "        logp_list_final = [x[-L:] for x in self.logp_list]\n",
    "        s_list_final = np.array([x[-L-1:] for x in self.s_list])\n",
    "        done_list_final = np.array([x[-L:] for x in self.done_list])\n",
    "        return r_list_final, logp_list_final, s_list_final, done_list_final"
   ]
  },
  {
   "cell_type": "code",
   "execution_count": 82,
   "metadata": {},
   "outputs": [],
   "source": [
    "def train_cartpole_A2C(n_epochs = 100, n_batches = 1, lr = 0.01, gamma = 0.99, TD=True, twin=False, tau=1.):\n",
    "    # Create environment\n",
    "    env = gym.make(\"CartPole-v1\")\n",
    "    observation_space = env.observation_space.shape[0]\n",
    "    action_space = env.action_space.n\n",
    "    # Init agent\n",
    "    agent = ActorCritic.A2C(observation_space, action_space, lr, gamma, TD=TD, discrete=False)\n",
    "    performance = []\n",
    "    for e in range(n_epochs):\n",
    "        r_list = []\n",
    "        logp_list = []\n",
    "        s_list = []\n",
    "        done_list = []\n",
    "        score = []\n",
    "        \n",
    "        for b in range(n_batches):\n",
    "            rewards, log_probs, states, done = play_episode(agent, env, return_states=True)\n",
    "            r_list.append(rewards)\n",
    "            logp_list.append(log_probs)\n",
    "            s_list.append(states)\n",
    "            done_list.append(done)\n",
    "            score.append(np.sum(rewards))\n",
    "            \n",
    "        performance.append(np.mean(score))\n",
    "        if (e+1)%10 == 0:\n",
    "            print(\"Episode %d - reward: %.0f\"%(e+1, np.mean(performance[-10:])))\n",
    "        exp_buff = experience_buffer(r_list, logp_list, s_list, done_list)\n",
    "        rewards, log_probs, states, done = exp_buff.get_exp()\n",
    "        #print(\"rewards.shape \", rewards.shape)\n",
    "        #print(\"log_probs \", log_probs)\n",
    "        #print(\"states.shape \", states.shape)\n",
    "        #print(\"done.shape \", done.shape)\n",
    "        #print(\"done \", done)\n",
    "        agent.update(rewards, log_probs[0], states, done)\n",
    "        \n",
    "    return agent, np.array(performance)"
   ]
  },
  {
   "cell_type": "code",
   "execution_count": 89,
   "metadata": {
    "scrolled": true
   },
   "outputs": [
    {
     "name": "stdout",
     "output_type": "stream",
     "text": [
      "Episode 10 - reward: 22\n",
      "Episode 20 - reward: 21\n",
      "Episode 30 - reward: 12\n",
      "Episode 40 - reward: 22\n",
      "Episode 50 - reward: 22\n",
      "Episode 60 - reward: 20\n",
      "Episode 70 - reward: 20\n",
      "Episode 80 - reward: 19\n",
      "Episode 90 - reward: 20\n",
      "Episode 100 - reward: 16\n",
      "Episode 110 - reward: 18\n",
      "Episode 120 - reward: 24\n",
      "Episode 130 - reward: 16\n",
      "Episode 140 - reward: 14\n",
      "Episode 150 - reward: 16\n",
      "Episode 160 - reward: 13\n",
      "Episode 170 - reward: 17\n",
      "Episode 180 - reward: 14\n",
      "Episode 190 - reward: 16\n",
      "Episode 200 - reward: 16\n",
      "Episode 210 - reward: 15\n",
      "Episode 220 - reward: 16\n",
      "Episode 230 - reward: 16\n",
      "Episode 240 - reward: 18\n",
      "Episode 250 - reward: 19\n",
      "Episode 260 - reward: 20\n",
      "Episode 270 - reward: 24\n",
      "Episode 280 - reward: 30\n",
      "Episode 290 - reward: 33\n",
      "Episode 300 - reward: 32\n",
      "Episode 310 - reward: 45\n",
      "Episode 320 - reward: 35\n",
      "Episode 330 - reward: 48\n",
      "Episode 340 - reward: 52\n",
      "Episode 350 - reward: 59\n",
      "Episode 360 - reward: 66\n",
      "Episode 370 - reward: 64\n",
      "Episode 380 - reward: 63\n",
      "Episode 390 - reward: 70\n",
      "Episode 400 - reward: 68\n",
      "Episode 410 - reward: 65\n",
      "Episode 420 - reward: 64\n",
      "Episode 430 - reward: 67\n",
      "Episode 440 - reward: 70\n",
      "Episode 450 - reward: 85\n",
      "Episode 460 - reward: 75\n",
      "Episode 470 - reward: 94\n",
      "Episode 480 - reward: 66\n",
      "Episode 490 - reward: 84\n",
      "Episode 500 - reward: 93\n",
      "Episode 510 - reward: 108\n",
      "Episode 520 - reward: 122\n",
      "Episode 530 - reward: 131\n",
      "Episode 540 - reward: 89\n",
      "Episode 550 - reward: 118\n",
      "Episode 560 - reward: 117\n",
      "Episode 570 - reward: 127\n",
      "Episode 580 - reward: 116\n",
      "Episode 590 - reward: 93\n",
      "Episode 600 - reward: 122\n",
      "Episode 610 - reward: 98\n",
      "Episode 620 - reward: 93\n",
      "Episode 630 - reward: 106\n",
      "Episode 640 - reward: 75\n",
      "Episode 650 - reward: 79\n",
      "Episode 660 - reward: 61\n",
      "Episode 670 - reward: 69\n",
      "Episode 680 - reward: 79\n",
      "Episode 690 - reward: 76\n",
      "Episode 700 - reward: 83\n",
      "Episode 710 - reward: 76\n",
      "Episode 720 - reward: 72\n",
      "Episode 730 - reward: 107\n",
      "Episode 740 - reward: 74\n",
      "Episode 750 - reward: 93\n",
      "Episode 760 - reward: 77\n",
      "Episode 770 - reward: 72\n",
      "Episode 780 - reward: 76\n",
      "Episode 790 - reward: 68\n",
      "Episode 800 - reward: 61\n",
      "Episode 810 - reward: 77\n",
      "Episode 820 - reward: 74\n",
      "Episode 830 - reward: 69\n",
      "Episode 840 - reward: 86\n",
      "Episode 850 - reward: 64\n",
      "Episode 860 - reward: 76\n",
      "Episode 870 - reward: 87\n",
      "Episode 880 - reward: 80\n",
      "Episode 890 - reward: 97\n",
      "Episode 900 - reward: 81\n",
      "Episode 910 - reward: 89\n",
      "Episode 920 - reward: 90\n",
      "Episode 930 - reward: 106\n",
      "Episode 940 - reward: 85\n",
      "Episode 950 - reward: 94\n",
      "Episode 960 - reward: 81\n",
      "Episode 970 - reward: 98\n",
      "Episode 980 - reward: 106\n",
      "Episode 990 - reward: 83\n",
      "Episode 1000 - reward: 117\n",
      "Episode 1010 - reward: 114\n",
      "Episode 1020 - reward: 105\n",
      "Episode 1030 - reward: 103\n",
      "Episode 1040 - reward: 104\n",
      "Episode 1050 - reward: 93\n",
      "Episode 1060 - reward: 96\n",
      "Episode 1070 - reward: 91\n",
      "Episode 1080 - reward: 75\n",
      "Episode 1090 - reward: 87\n",
      "Episode 1100 - reward: 68\n",
      "Episode 1110 - reward: 79\n",
      "Episode 1120 - reward: 67\n",
      "Episode 1130 - reward: 75\n",
      "Episode 1140 - reward: 49\n",
      "Episode 1150 - reward: 64\n",
      "Episode 1160 - reward: 40\n",
      "Episode 1170 - reward: 42\n",
      "Episode 1180 - reward: 47\n",
      "Episode 1190 - reward: 41\n",
      "Episode 1200 - reward: 48\n",
      "Episode 1210 - reward: 58\n",
      "Episode 1220 - reward: 56\n",
      "Episode 1230 - reward: 44\n",
      "Episode 1240 - reward: 53\n",
      "Episode 1250 - reward: 43\n",
      "Episode 1260 - reward: 47\n",
      "Episode 1270 - reward: 40\n",
      "Episode 1280 - reward: 43\n",
      "Episode 1290 - reward: 38\n",
      "Episode 1300 - reward: 46\n",
      "Episode 1310 - reward: 41\n",
      "Episode 1320 - reward: 69\n",
      "Episode 1330 - reward: 56\n",
      "Episode 1340 - reward: 41\n",
      "Episode 1350 - reward: 42\n",
      "Episode 1360 - reward: 54\n",
      "Episode 1370 - reward: 37\n",
      "Episode 1380 - reward: 50\n",
      "Episode 1390 - reward: 53\n",
      "Episode 1400 - reward: 48\n",
      "Episode 1410 - reward: 50\n",
      "Episode 1420 - reward: 55\n",
      "Episode 1430 - reward: 58\n",
      "Episode 1440 - reward: 56\n",
      "Episode 1450 - reward: 58\n",
      "Episode 1460 - reward: 60\n",
      "Episode 1470 - reward: 67\n",
      "Episode 1480 - reward: 75\n",
      "Episode 1490 - reward: 50\n",
      "Episode 1500 - reward: 42\n",
      "CPU times: user 1min 43s, sys: 504 ms, total: 1min 43s\n",
      "Wall time: 1min 30s\n"
     ]
    }
   ],
   "source": [
    "%%time\n",
    "agent_TD, performance_TD = train_cartpole_A2C(n_epochs=1500, lr=1e-3, twin=True, tau=0.1)"
   ]
  },
  {
   "cell_type": "code",
   "execution_count": 90,
   "metadata": {},
   "outputs": [
    {
     "data": {
      "text/plain": [
       "<matplotlib.collections.PathCollection at 0x7fc1b75024d0>"
      ]
     },
     "execution_count": 90,
     "metadata": {},
     "output_type": "execute_result"
    },
    {
     "data": {
      "image/png": "[encoded data removed]",
      "text/plain": [
       "<Figure size 432x288 with 1 Axes>"
      ]
     },
     "metadata": {
      "needs_background": "light"
     },
     "output_type": "display_data"
    }
   ],
   "source": [
    "episodes = np.arange(1,len(performance_TD)+1)\n",
    "plt.scatter(episodes, performance_TD, s=2)"
   ]
  },
  {
   "cell_type": "code",
   "execution_count": 83,
   "metadata": {},
   "outputs": [],
   "source": [
    "render_test_episode(agent_TD) "
   ]
  },
  {
   "cell_type": "code",
   "execution_count": 16,
   "metadata": {
    "scrolled": true
   },
   "outputs": [
    {
     "name": "stdout",
     "output_type": "stream",
     "text": [
      "Episode 10 - reward: 12\n",
      "Episode 20 - reward: 10\n",
      "Episode 30 - reward: 14\n",
      "Episode 40 - reward: 14\n",
      "Episode 50 - reward: 17\n",
      "Episode 60 - reward: 16\n",
      "Episode 70 - reward: 21\n",
      "Episode 80 - reward: 27\n",
      "Episode 90 - reward: 43\n",
      "Episode 100 - reward: 93\n",
      "Episode 110 - reward: 129\n",
      "Episode 120 - reward: 84\n"
     ]
    },
    {
     "ename": "KeyboardInterrupt",
     "evalue": "",
     "output_type": "error",
     "traceback": [
      "\u001b[0;31m---------------------------------------------------------------------------\u001b[0m",
      "\u001b[0;31mKeyboardInterrupt\u001b[0m                         Traceback (most recent call last)",
      "\u001b[0;32m<timed exec>\u001b[0m in \u001b[0;36m<module>\u001b[0;34m\u001b[0m\n",
      "\u001b[0;32m<ipython-input-14-89625a211a5d>\u001b[0m in \u001b[0;36mtrain_cartpole_A2C\u001b[0;34m(n_epochs, n_batches, lr, gamma, TD)\u001b[0m\n\u001b[1;32m     15\u001b[0m \u001b[0;34m\u001b[0m\u001b[0m\n\u001b[1;32m     16\u001b[0m         \u001b[0;32mfor\u001b[0m \u001b[0mb\u001b[0m \u001b[0;32min\u001b[0m \u001b[0mrange\u001b[0m\u001b[0;34m(\u001b[0m\u001b[0mn_batches\u001b[0m\u001b[0;34m)\u001b[0m\u001b[0;34m:\u001b[0m\u001b[0;34m\u001b[0m\u001b[0;34m\u001b[0m\u001b[0m\n\u001b[0;32m---> 17\u001b[0;31m             \u001b[0mrewards\u001b[0m\u001b[0;34m,\u001b[0m \u001b[0mlog_probs\u001b[0m\u001b[0;34m,\u001b[0m \u001b[0mstates\u001b[0m\u001b[0;34m,\u001b[0m \u001b[0mdone\u001b[0m \u001b[0;34m=\u001b[0m \u001b[0mplay_episode\u001b[0m\u001b[0;34m(\u001b[0m\u001b[0magent\u001b[0m\u001b[0;34m,\u001b[0m \u001b[0menv\u001b[0m\u001b[0;34m,\u001b[0m \u001b[0mreturn_states\u001b[0m\u001b[0;34m=\u001b[0m\u001b[0;32mTrue\u001b[0m\u001b[0;34m)\u001b[0m\u001b[0;34m\u001b[0m\u001b[0;34m\u001b[0m\u001b[0m\n\u001b[0m\u001b[1;32m     18\u001b[0m             \u001b[0mr_list\u001b[0m\u001b[0;34m.\u001b[0m\u001b[0mappend\u001b[0m\u001b[0;34m(\u001b[0m\u001b[0mrewards\u001b[0m\u001b[0;34m)\u001b[0m\u001b[0;34m\u001b[0m\u001b[0;34m\u001b[0m\u001b[0m\n\u001b[1;32m     19\u001b[0m             \u001b[0mlogp_list\u001b[0m\u001b[0;34m.\u001b[0m\u001b[0mappend\u001b[0m\u001b[0;34m(\u001b[0m\u001b[0mlog_probs\u001b[0m\u001b[0;34m)\u001b[0m\u001b[0;34m\u001b[0m\u001b[0;34m\u001b[0m\u001b[0m\n",
      "\u001b[0;32m<ipython-input-2-53d8a56073c4>\u001b[0m in \u001b[0;36mplay_episode\u001b[0;34m(agent, env, return_states)\u001b[0m\n\u001b[1;32m     12\u001b[0m     \u001b[0msteps\u001b[0m \u001b[0;34m=\u001b[0m \u001b[0;36m0\u001b[0m\u001b[0;34m\u001b[0m\u001b[0;34m\u001b[0m\u001b[0m\n\u001b[1;32m     13\u001b[0m     \u001b[0;32mwhile\u001b[0m \u001b[0;32mTrue\u001b[0m\u001b[0;34m:\u001b[0m\u001b[0;34m\u001b[0m\u001b[0;34m\u001b[0m\u001b[0m\n\u001b[0;32m---> 14\u001b[0;31m         \u001b[0maction\u001b[0m\u001b[0;34m,\u001b[0m \u001b[0mlog_prob\u001b[0m \u001b[0;34m=\u001b[0m \u001b[0magent\u001b[0m\u001b[0;34m.\u001b[0m\u001b[0mget_action\u001b[0m\u001b[0;34m(\u001b[0m\u001b[0mstate\u001b[0m\u001b[0;34m,\u001b[0m \u001b[0mreturn_log\u001b[0m \u001b[0;34m=\u001b[0m \u001b[0;32mTrue\u001b[0m\u001b[0;34m)\u001b[0m\u001b[0;34m\u001b[0m\u001b[0;34m\u001b[0m\u001b[0m\n\u001b[0m\u001b[1;32m     15\u001b[0m         \u001b[0mnew_state\u001b[0m\u001b[0;34m,\u001b[0m \u001b[0mreward\u001b[0m\u001b[0;34m,\u001b[0m \u001b[0mterminal\u001b[0m\u001b[0;34m,\u001b[0m \u001b[0minfo\u001b[0m \u001b[0;34m=\u001b[0m \u001b[0menv\u001b[0m\u001b[0;34m.\u001b[0m\u001b[0mstep\u001b[0m\u001b[0;34m(\u001b[0m\u001b[0maction\u001b[0m\u001b[0;34m)\u001b[0m \u001b[0;31m# gym standard step's output\u001b[0m\u001b[0;34m\u001b[0m\u001b[0;34m\u001b[0m\u001b[0m\n\u001b[1;32m     16\u001b[0m \u001b[0;34m\u001b[0m\u001b[0m\n",
      "\u001b[0;32m~/Nicola_unipd/MasterThesis/Policy-based-RL/ActorCritic.py\u001b[0m in \u001b[0;36mget_action\u001b[0;34m(self, state, return_log)\u001b[0m\n\u001b[1;32m     60\u001b[0m \u001b[0;34m\u001b[0m\u001b[0m\n\u001b[1;32m     61\u001b[0m     \u001b[0;32mdef\u001b[0m \u001b[0mget_action\u001b[0m\u001b[0;34m(\u001b[0m\u001b[0mself\u001b[0m\u001b[0;34m,\u001b[0m \u001b[0mstate\u001b[0m\u001b[0;34m,\u001b[0m \u001b[0mreturn_log\u001b[0m\u001b[0;34m=\u001b[0m\u001b[0;32mFalse\u001b[0m\u001b[0;34m)\u001b[0m\u001b[0;34m:\u001b[0m\u001b[0;34m\u001b[0m\u001b[0;34m\u001b[0m\u001b[0m\n\u001b[0;32m---> 62\u001b[0;31m         \u001b[0mlog_probs\u001b[0m \u001b[0;34m=\u001b[0m \u001b[0mself\u001b[0m\u001b[0;34m.\u001b[0m\u001b[0mforward\u001b[0m\u001b[0;34m(\u001b[0m\u001b[0mstate\u001b[0m\u001b[0;34m)\u001b[0m\u001b[0;34m\u001b[0m\u001b[0;34m\u001b[0m\u001b[0m\n\u001b[0m\u001b[1;32m     63\u001b[0m         \u001b[0mdist\u001b[0m \u001b[0;34m=\u001b[0m \u001b[0mtorch\u001b[0m\u001b[0;34m.\u001b[0m\u001b[0mexp\u001b[0m\u001b[0;34m(\u001b[0m\u001b[0mlog_probs\u001b[0m\u001b[0;34m)\u001b[0m\u001b[0;34m\u001b[0m\u001b[0;34m\u001b[0m\u001b[0m\n\u001b[1;32m     64\u001b[0m         \u001b[0mprobs\u001b[0m \u001b[0;34m=\u001b[0m \u001b[0mCategorical\u001b[0m\u001b[0;34m(\u001b[0m\u001b[0mdist\u001b[0m\u001b[0;34m)\u001b[0m\u001b[0;34m\u001b[0m\u001b[0;34m\u001b[0m\u001b[0m\n",
      "\u001b[0;32m~/Nicola_unipd/MasterThesis/Policy-based-RL/ActorCritic.py\u001b[0m in \u001b[0;36mforward\u001b[0;34m(self, state)\u001b[0m\n\u001b[1;32m     84\u001b[0m         \u001b[0;32melse\u001b[0m\u001b[0;34m:\u001b[0m\u001b[0;34m\u001b[0m\u001b[0;34m\u001b[0m\u001b[0m\n\u001b[1;32m     85\u001b[0m             \u001b[0mstate\u001b[0m \u001b[0;34m=\u001b[0m \u001b[0mtorch\u001b[0m\u001b[0;34m.\u001b[0m\u001b[0mfrom_numpy\u001b[0m\u001b[0;34m(\u001b[0m\u001b[0mstate\u001b[0m\u001b[0;34m)\u001b[0m\u001b[0;34m.\u001b[0m\u001b[0mfloat\u001b[0m\u001b[0;34m(\u001b[0m\u001b[0;34m)\u001b[0m\u001b[0;34m.\u001b[0m\u001b[0munsqueeze\u001b[0m\u001b[0;34m(\u001b[0m\u001b[0;36m0\u001b[0m\u001b[0;34m)\u001b[0m\u001b[0;34m\u001b[0m\u001b[0;34m\u001b[0m\u001b[0m\n\u001b[0;32m---> 86\u001b[0;31m         \u001b[0mlog_probs\u001b[0m \u001b[0;34m=\u001b[0m \u001b[0mself\u001b[0m\u001b[0;34m.\u001b[0m\u001b[0mactor\u001b[0m\u001b[0;34m(\u001b[0m\u001b[0mstate\u001b[0m\u001b[0;34m)\u001b[0m\u001b[0;34m\u001b[0m\u001b[0;34m\u001b[0m\u001b[0m\n\u001b[0m\u001b[1;32m     87\u001b[0m         \u001b[0;32mreturn\u001b[0m \u001b[0mlog_probs\u001b[0m\u001b[0;34m\u001b[0m\u001b[0;34m\u001b[0m\u001b[0m\n\u001b[1;32m     88\u001b[0m \u001b[0;34m\u001b[0m\u001b[0m\n",
      "\u001b[0;32m~/anaconda3/envs/torch/lib/python3.7/site-packages/torch/nn/modules/module.py\u001b[0m in \u001b[0;36m__call__\u001b[0;34m(self, *input, **kwargs)\u001b[0m\n\u001b[1;32m    530\u001b[0m             \u001b[0mresult\u001b[0m \u001b[0;34m=\u001b[0m \u001b[0mself\u001b[0m\u001b[0;34m.\u001b[0m\u001b[0m_slow_forward\u001b[0m\u001b[0;34m(\u001b[0m\u001b[0;34m*\u001b[0m\u001b[0minput\u001b[0m\u001b[0;34m,\u001b[0m \u001b[0;34m**\u001b[0m\u001b[0mkwargs\u001b[0m\u001b[0;34m)\u001b[0m\u001b[0;34m\u001b[0m\u001b[0;34m\u001b[0m\u001b[0m\n\u001b[1;32m    531\u001b[0m         \u001b[0;32melse\u001b[0m\u001b[0;34m:\u001b[0m\u001b[0;34m\u001b[0m\u001b[0;34m\u001b[0m\u001b[0m\n\u001b[0;32m--> 532\u001b[0;31m             \u001b[0mresult\u001b[0m \u001b[0;34m=\u001b[0m \u001b[0mself\u001b[0m\u001b[0;34m.\u001b[0m\u001b[0mforward\u001b[0m\u001b[0;34m(\u001b[0m\u001b[0;34m*\u001b[0m\u001b[0minput\u001b[0m\u001b[0;34m,\u001b[0m \u001b[0;34m**\u001b[0m\u001b[0mkwargs\u001b[0m\u001b[0;34m)\u001b[0m\u001b[0;34m\u001b[0m\u001b[0;34m\u001b[0m\u001b[0m\n\u001b[0m\u001b[1;32m    533\u001b[0m         \u001b[0;32mfor\u001b[0m \u001b[0mhook\u001b[0m \u001b[0;32min\u001b[0m \u001b[0mself\u001b[0m\u001b[0;34m.\u001b[0m\u001b[0m_forward_hooks\u001b[0m\u001b[0;34m.\u001b[0m\u001b[0mvalues\u001b[0m\u001b[0;34m(\u001b[0m\u001b[0;34m)\u001b[0m\u001b[0;34m:\u001b[0m\u001b[0;34m\u001b[0m\u001b[0;34m\u001b[0m\u001b[0m\n\u001b[1;32m    534\u001b[0m             \u001b[0mhook_result\u001b[0m \u001b[0;34m=\u001b[0m \u001b[0mhook\u001b[0m\u001b[0;34m(\u001b[0m\u001b[0mself\u001b[0m\u001b[0;34m,\u001b[0m \u001b[0minput\u001b[0m\u001b[0;34m,\u001b[0m \u001b[0mresult\u001b[0m\u001b[0;34m)\u001b[0m\u001b[0;34m\u001b[0m\u001b[0;34m\u001b[0m\u001b[0m\n",
      "\u001b[0;32m~/Nicola_unipd/MasterThesis/Policy-based-RL/networks.py\u001b[0m in \u001b[0;36mforward\u001b[0;34m(self, state)\u001b[0m\n\u001b[1;32m     38\u001b[0m             \u001b[0mstate\u001b[0m \u001b[0;34m=\u001b[0m \u001b[0mself\u001b[0m\u001b[0;34m.\u001b[0m\u001b[0membedding\u001b[0m\u001b[0;34m(\u001b[0m\u001b[0mstate\u001b[0m\u001b[0;34m)\u001b[0m\u001b[0;34m\u001b[0m\u001b[0;34m\u001b[0m\u001b[0m\n\u001b[1;32m     39\u001b[0m         \u001b[0mout\u001b[0m \u001b[0;34m=\u001b[0m \u001b[0mF\u001b[0m\u001b[0;34m.\u001b[0m\u001b[0mrelu\u001b[0m\u001b[0;34m(\u001b[0m\u001b[0mself\u001b[0m\u001b[0;34m.\u001b[0m\u001b[0mlinear1\u001b[0m\u001b[0;34m(\u001b[0m\u001b[0mstate\u001b[0m\u001b[0;34m)\u001b[0m\u001b[0;34m)\u001b[0m\u001b[0;34m\u001b[0m\u001b[0;34m\u001b[0m\u001b[0m\n\u001b[0;32m---> 40\u001b[0;31m         \u001b[0mout\u001b[0m \u001b[0;34m=\u001b[0m \u001b[0mF\u001b[0m\u001b[0;34m.\u001b[0m\u001b[0mrelu\u001b[0m\u001b[0;34m(\u001b[0m\u001b[0mself\u001b[0m\u001b[0;34m.\u001b[0m\u001b[0mlinear2\u001b[0m\u001b[0;34m(\u001b[0m\u001b[0mout\u001b[0m\u001b[0;34m)\u001b[0m\u001b[0;34m)\u001b[0m\u001b[0;34m\u001b[0m\u001b[0;34m\u001b[0m\u001b[0m\n\u001b[0m\u001b[1;32m     41\u001b[0m         \u001b[0mlog_probs\u001b[0m \u001b[0;34m=\u001b[0m \u001b[0mF\u001b[0m\u001b[0;34m.\u001b[0m\u001b[0mlog_softmax\u001b[0m\u001b[0;34m(\u001b[0m\u001b[0mself\u001b[0m\u001b[0;34m.\u001b[0m\u001b[0mlinear3\u001b[0m\u001b[0;34m(\u001b[0m\u001b[0mout\u001b[0m\u001b[0;34m)\u001b[0m\u001b[0;34m,\u001b[0m \u001b[0mdim\u001b[0m\u001b[0;34m=\u001b[0m\u001b[0;36m1\u001b[0m\u001b[0;34m)\u001b[0m\u001b[0;34m\u001b[0m\u001b[0;34m\u001b[0m\u001b[0m\n\u001b[1;32m     42\u001b[0m         \u001b[0;32mreturn\u001b[0m \u001b[0mlog_probs\u001b[0m\u001b[0;34m\u001b[0m\u001b[0;34m\u001b[0m\u001b[0m\n",
      "\u001b[0;32m~/anaconda3/envs/torch/lib/python3.7/site-packages/torch/nn/modules/module.py\u001b[0m in \u001b[0;36m__call__\u001b[0;34m(self, *input, **kwargs)\u001b[0m\n\u001b[1;32m    530\u001b[0m             \u001b[0mresult\u001b[0m \u001b[0;34m=\u001b[0m \u001b[0mself\u001b[0m\u001b[0;34m.\u001b[0m\u001b[0m_slow_forward\u001b[0m\u001b[0;34m(\u001b[0m\u001b[0;34m*\u001b[0m\u001b[0minput\u001b[0m\u001b[0;34m,\u001b[0m \u001b[0;34m**\u001b[0m\u001b[0mkwargs\u001b[0m\u001b[0;34m)\u001b[0m\u001b[0;34m\u001b[0m\u001b[0;34m\u001b[0m\u001b[0m\n\u001b[1;32m    531\u001b[0m         \u001b[0;32melse\u001b[0m\u001b[0;34m:\u001b[0m\u001b[0;34m\u001b[0m\u001b[0;34m\u001b[0m\u001b[0m\n\u001b[0;32m--> 532\u001b[0;31m             \u001b[0mresult\u001b[0m \u001b[0;34m=\u001b[0m \u001b[0mself\u001b[0m\u001b[0;34m.\u001b[0m\u001b[0mforward\u001b[0m\u001b[0;34m(\u001b[0m\u001b[0;34m*\u001b[0m\u001b[0minput\u001b[0m\u001b[0;34m,\u001b[0m \u001b[0;34m**\u001b[0m\u001b[0mkwargs\u001b[0m\u001b[0;34m)\u001b[0m\u001b[0;34m\u001b[0m\u001b[0;34m\u001b[0m\u001b[0m\n\u001b[0m\u001b[1;32m    533\u001b[0m         \u001b[0;32mfor\u001b[0m \u001b[0mhook\u001b[0m \u001b[0;32min\u001b[0m \u001b[0mself\u001b[0m\u001b[0;34m.\u001b[0m\u001b[0m_forward_hooks\u001b[0m\u001b[0;34m.\u001b[0m\u001b[0mvalues\u001b[0m\u001b[0;34m(\u001b[0m\u001b[0;34m)\u001b[0m\u001b[0;34m:\u001b[0m\u001b[0;34m\u001b[0m\u001b[0;34m\u001b[0m\u001b[0m\n\u001b[1;32m    534\u001b[0m             \u001b[0mhook_result\u001b[0m \u001b[0;34m=\u001b[0m \u001b[0mhook\u001b[0m\u001b[0;34m(\u001b[0m\u001b[0mself\u001b[0m\u001b[0;34m,\u001b[0m \u001b[0minput\u001b[0m\u001b[0;34m,\u001b[0m \u001b[0mresult\u001b[0m\u001b[0;34m)\u001b[0m\u001b[0;34m\u001b[0m\u001b[0;34m\u001b[0m\u001b[0m\n",
      "\u001b[0;32m~/anaconda3/envs/torch/lib/python3.7/site-packages/torch/nn/modules/linear.py\u001b[0m in \u001b[0;36mforward\u001b[0;34m(self, input)\u001b[0m\n\u001b[1;32m     85\u001b[0m \u001b[0;34m\u001b[0m\u001b[0m\n\u001b[1;32m     86\u001b[0m     \u001b[0;32mdef\u001b[0m \u001b[0mforward\u001b[0m\u001b[0;34m(\u001b[0m\u001b[0mself\u001b[0m\u001b[0;34m,\u001b[0m \u001b[0minput\u001b[0m\u001b[0;34m)\u001b[0m\u001b[0;34m:\u001b[0m\u001b[0;34m\u001b[0m\u001b[0;34m\u001b[0m\u001b[0m\n\u001b[0;32m---> 87\u001b[0;31m         \u001b[0;32mreturn\u001b[0m \u001b[0mF\u001b[0m\u001b[0;34m.\u001b[0m\u001b[0mlinear\u001b[0m\u001b[0;34m(\u001b[0m\u001b[0minput\u001b[0m\u001b[0;34m,\u001b[0m \u001b[0mself\u001b[0m\u001b[0;34m.\u001b[0m\u001b[0mweight\u001b[0m\u001b[0;34m,\u001b[0m \u001b[0mself\u001b[0m\u001b[0;34m.\u001b[0m\u001b[0mbias\u001b[0m\u001b[0;34m)\u001b[0m\u001b[0;34m\u001b[0m\u001b[0;34m\u001b[0m\u001b[0m\n\u001b[0m\u001b[1;32m     88\u001b[0m \u001b[0;34m\u001b[0m\u001b[0m\n\u001b[1;32m     89\u001b[0m     \u001b[0;32mdef\u001b[0m \u001b[0mextra_repr\u001b[0m\u001b[0;34m(\u001b[0m\u001b[0mself\u001b[0m\u001b[0;34m)\u001b[0m\u001b[0;34m:\u001b[0m\u001b[0;34m\u001b[0m\u001b[0;34m\u001b[0m\u001b[0m\n",
      "\u001b[0;32m~/anaconda3/envs/torch/lib/python3.7/site-packages/torch/nn/functional.py\u001b[0m in \u001b[0;36mlinear\u001b[0;34m(input, weight, bias)\u001b[0m\n\u001b[1;32m   1368\u001b[0m     \u001b[0;32mif\u001b[0m \u001b[0minput\u001b[0m\u001b[0;34m.\u001b[0m\u001b[0mdim\u001b[0m\u001b[0;34m(\u001b[0m\u001b[0;34m)\u001b[0m \u001b[0;34m==\u001b[0m \u001b[0;36m2\u001b[0m \u001b[0;32mand\u001b[0m \u001b[0mbias\u001b[0m \u001b[0;32mis\u001b[0m \u001b[0;32mnot\u001b[0m \u001b[0;32mNone\u001b[0m\u001b[0;34m:\u001b[0m\u001b[0;34m\u001b[0m\u001b[0;34m\u001b[0m\u001b[0m\n\u001b[1;32m   1369\u001b[0m         \u001b[0;31m# fused op is marginally faster\u001b[0m\u001b[0;34m\u001b[0m\u001b[0;34m\u001b[0m\u001b[0;34m\u001b[0m\u001b[0m\n\u001b[0;32m-> 1370\u001b[0;31m         \u001b[0mret\u001b[0m \u001b[0;34m=\u001b[0m \u001b[0mtorch\u001b[0m\u001b[0;34m.\u001b[0m\u001b[0maddmm\u001b[0m\u001b[0;34m(\u001b[0m\u001b[0mbias\u001b[0m\u001b[0;34m,\u001b[0m \u001b[0minput\u001b[0m\u001b[0;34m,\u001b[0m \u001b[0mweight\u001b[0m\u001b[0;34m.\u001b[0m\u001b[0mt\u001b[0m\u001b[0;34m(\u001b[0m\u001b[0;34m)\u001b[0m\u001b[0;34m)\u001b[0m\u001b[0;34m\u001b[0m\u001b[0;34m\u001b[0m\u001b[0m\n\u001b[0m\u001b[1;32m   1371\u001b[0m     \u001b[0;32melse\u001b[0m\u001b[0;34m:\u001b[0m\u001b[0;34m\u001b[0m\u001b[0;34m\u001b[0m\u001b[0m\n\u001b[1;32m   1372\u001b[0m         \u001b[0moutput\u001b[0m \u001b[0;34m=\u001b[0m \u001b[0minput\u001b[0m\u001b[0;34m.\u001b[0m\u001b[0mmatmul\u001b[0m\u001b[0;34m(\u001b[0m\u001b[0mweight\u001b[0m\u001b[0;34m.\u001b[0m\u001b[0mt\u001b[0m\u001b[0;34m(\u001b[0m\u001b[0;34m)\u001b[0m\u001b[0;34m)\u001b[0m\u001b[0;34m\u001b[0m\u001b[0;34m\u001b[0m\u001b[0m\n",
      "\u001b[0;31mKeyboardInterrupt\u001b[0m: "
     ]
    }
   ],
   "source": [
    "%%time\n",
    "agent_MC, performance_MC = train_cartpole_A2C(n_epochs=1500, lr=5e-3, TD=False)"
   ]
  },
  {
   "cell_type": "code",
   "execution_count": 85,
   "metadata": {},
   "outputs": [
    {
     "data": {
      "text/plain": [
       "<matplotlib.collections.PathCollection at 0x7fe844b21fd0>"
      ]
     },
     "execution_count": 85,
     "metadata": {},
     "output_type": "execute_result"
    },
    {
     "data": {
      "image/png": "[encoded data removed]",
      "text/plain": [
       "<Figure size 432x288 with 1 Axes>"
      ]
     },
     "metadata": {
      "needs_background": "light"
     },
     "output_type": "display_data"
    }
   ],
   "source": [
    "episodes = np.arange(1,len(performance_MC)+1)\n",
    "plt.scatter(episodes, performance_MC, s=2)"
   ]
  },
  {
   "cell_type": "code",
   "execution_count": 86,
   "metadata": {},
   "outputs": [],
   "source": [
    "render_test_episode(agent_MC) "
   ]
  },
  {
   "cell_type": "markdown",
   "metadata": {},
   "source": [
    "## Reward shaping\n",
    "\n",
    "Try to make a more informative reward.\n",
    "Idea: store the whole trajectory, then subtract $-\\frac{eps \\cdot t}{T}$ to all rewards, where $t$ is the step at which the reward was obtained and $T$ the total number of steps."
   ]
  },
  {
   "cell_type": "code",
   "execution_count": 103,
   "metadata": {},
   "outputs": [],
   "source": [
    "def shape_rewards(r, eps, power=1):\n",
    "    T = len(r)\n",
    "    t = np.arange(1,T+1)\n",
    "    r -= eps*(t/T)**power\n",
    "    return r"
   ]
  },
  {
   "cell_type": "code",
   "execution_count": 106,
   "metadata": {},
   "outputs": [],
   "source": [
    "def train_cartpole_A2C_shaped(n_epochs = 100, n_batches = 1, lr = 0.01, gamma = 0.99, TD=True, eps=1, power=1):\n",
    "    # Create environment\n",
    "    env = gym.make(\"CartPole-v1\")\n",
    "    observation_space = env.observation_space.shape[0]\n",
    "    action_space = env.action_space.n\n",
    "    # Init agent\n",
    "    agent = ActorCritic.A2C(observation_space, action_space, lr, gamma, TD=TD, discrete=False)\n",
    "    performance = []\n",
    "    for e in range(n_epochs):\n",
    "        r_list = []\n",
    "        logp_list = []\n",
    "        s_list = []\n",
    "        done_list = []\n",
    "        score = []\n",
    "        \n",
    "        for b in range(n_batches):\n",
    "            rewards, log_probs, states, done = play_episode(agent, env, return_states=True)\n",
    "            if done[-1] == True and len(done) != 500:\n",
    "                rewards = shape_rewards(rewards, eps, power)\n",
    "            r_list.append(rewards)\n",
    "            logp_list.append(log_probs)\n",
    "            s_list.append(states)\n",
    "            done_list.append(done)\n",
    "            score.append(np.sum(rewards))\n",
    "            \n",
    "        performance.append(np.mean(score))\n",
    "        if (e+1)%10 == 0:\n",
    "            print(\"Episode %d - reward: %.0f\"%(e+1, np.mean(performance[-10:])))\n",
    "        exp_buff = experience_buffer(r_list, logp_list, s_list, done_list)\n",
    "        rewards, log_probs, states, done = exp_buff.get_exp()\n",
    "        #print(\"rewards.shape \", rewards.shape)\n",
    "        #print(\"log_probs \", log_probs)\n",
    "        #print(\"states.shape \", states.shape)\n",
    "        #print(\"done.shape \", done.shape)\n",
    "        #print(\"done \", done)\n",
    "        agent.update(rewards, log_probs[0], states, done)\n",
    "        \n",
    "    return agent, np.array(performance)"
   ]
  },
  {
   "cell_type": "code",
   "execution_count": 100,
   "metadata": {
    "scrolled": true
   },
   "outputs": [
    {
     "name": "stdout",
     "output_type": "stream",
     "text": [
      "Episode 10 - reward: 20\n",
      "Episode 20 - reward: 11\n",
      "Episode 30 - reward: 7\n",
      "Episode 40 - reward: 8\n",
      "Episode 50 - reward: 7\n",
      "Episode 60 - reward: 7\n",
      "Episode 70 - reward: 7\n",
      "Episode 80 - reward: 7\n",
      "Episode 90 - reward: 7\n",
      "Episode 100 - reward: 7\n",
      "Episode 110 - reward: 8\n",
      "Episode 120 - reward: 8\n",
      "Episode 130 - reward: 7\n",
      "Episode 140 - reward: 7\n",
      "Episode 150 - reward: 7\n",
      "Episode 160 - reward: 7\n",
      "Episode 170 - reward: 7\n",
      "Episode 180 - reward: 8\n",
      "Episode 190 - reward: 8\n",
      "Episode 200 - reward: 17\n",
      "Episode 210 - reward: 15\n",
      "Episode 220 - reward: 21\n",
      "Episode 230 - reward: 26\n",
      "Episode 240 - reward: 14\n",
      "Episode 250 - reward: 27\n",
      "Episode 260 - reward: 28\n",
      "Episode 270 - reward: 28\n",
      "Episode 280 - reward: 33\n",
      "Episode 290 - reward: 49\n",
      "Episode 300 - reward: 59\n",
      "Episode 310 - reward: 63\n",
      "Episode 320 - reward: 112\n",
      "Episode 330 - reward: 154\n",
      "Episode 340 - reward: 145\n",
      "Episode 350 - reward: 219\n",
      "Episode 360 - reward: 216\n",
      "Episode 370 - reward: 106\n",
      "Episode 380 - reward: 109\n",
      "Episode 390 - reward: 321\n",
      "Episode 400 - reward: 232\n",
      "Episode 410 - reward: 93\n",
      "Episode 420 - reward: 33\n",
      "Episode 430 - reward: 32\n",
      "Episode 440 - reward: 33\n",
      "Episode 450 - reward: 42\n",
      "Episode 460 - reward: 37\n",
      "Episode 470 - reward: 30\n",
      "Episode 480 - reward: 31\n",
      "Episode 490 - reward: 30\n",
      "Episode 500 - reward: 34\n",
      "Episode 510 - reward: 35\n",
      "Episode 520 - reward: 35\n",
      "Episode 530 - reward: 35\n",
      "Episode 540 - reward: 35\n",
      "Episode 550 - reward: 34\n",
      "Episode 560 - reward: 39\n",
      "Episode 570 - reward: 36\n",
      "Episode 580 - reward: 35\n",
      "Episode 590 - reward: 34\n",
      "Episode 600 - reward: 36\n",
      "Episode 610 - reward: 39\n",
      "Episode 620 - reward: 41\n",
      "Episode 630 - reward: 42\n",
      "Episode 640 - reward: 43\n",
      "Episode 650 - reward: 41\n",
      "Episode 660 - reward: 51\n",
      "Episode 670 - reward: 49\n",
      "Episode 680 - reward: 56\n",
      "Episode 690 - reward: 67\n",
      "Episode 700 - reward: 45\n",
      "Episode 710 - reward: 59\n",
      "Episode 720 - reward: 55\n",
      "Episode 730 - reward: 72\n",
      "Episode 740 - reward: 52\n",
      "Episode 750 - reward: 49\n",
      "Episode 760 - reward: 56\n",
      "Episode 770 - reward: 48\n",
      "Episode 780 - reward: 33\n",
      "Episode 790 - reward: 60\n",
      "Episode 800 - reward: 51\n",
      "Episode 810 - reward: 41\n",
      "Episode 820 - reward: 41\n",
      "Episode 830 - reward: 54\n",
      "Episode 840 - reward: 41\n",
      "Episode 850 - reward: 44\n",
      "Episode 860 - reward: 53\n",
      "Episode 870 - reward: 52\n",
      "Episode 880 - reward: 58\n",
      "Episode 890 - reward: 62\n",
      "Episode 900 - reward: 45\n",
      "Episode 910 - reward: 49\n",
      "Episode 920 - reward: 64\n",
      "Episode 930 - reward: 59\n",
      "Episode 940 - reward: 142\n",
      "Episode 950 - reward: 254\n",
      "Episode 960 - reward: 219\n",
      "Episode 970 - reward: 165\n",
      "Episode 980 - reward: 183\n",
      "Episode 990 - reward: 353\n",
      "Episode 1000 - reward: 248\n",
      "Episode 1010 - reward: 360\n",
      "Episode 1020 - reward: 458\n",
      "Episode 1030 - reward: 498\n",
      "Episode 1040 - reward: 458\n",
      "Episode 1050 - reward: 182\n",
      "Episode 1060 - reward: 93\n",
      "Episode 1070 - reward: 103\n",
      "Episode 1080 - reward: 162\n",
      "Episode 1090 - reward: 369\n",
      "Episode 1100 - reward: 328\n",
      "Episode 1110 - reward: 83\n",
      "Episode 1120 - reward: 102\n",
      "Episode 1130 - reward: 187\n",
      "Episode 1140 - reward: 477\n",
      "Episode 1150 - reward: 482\n",
      "Episode 1160 - reward: 207\n",
      "Episode 1170 - reward: 136\n",
      "Episode 1180 - reward: 101\n",
      "Episode 1190 - reward: 46\n",
      "Episode 1200 - reward: 39\n",
      "Episode 1210 - reward: 55\n",
      "Episode 1220 - reward: 67\n",
      "Episode 1230 - reward: 91\n",
      "Episode 1240 - reward: 90\n",
      "Episode 1250 - reward: 94\n",
      "Episode 1260 - reward: 97\n",
      "Episode 1270 - reward: 100\n",
      "Episode 1280 - reward: 103\n",
      "Episode 1290 - reward: 106\n",
      "Episode 1300 - reward: 106\n",
      "Episode 1310 - reward: 102\n",
      "Episode 1320 - reward: 67\n",
      "Episode 1330 - reward: 58\n",
      "Episode 1340 - reward: 48\n",
      "Episode 1350 - reward: 44\n",
      "Episode 1360 - reward: 46\n",
      "Episode 1370 - reward: 50\n",
      "Episode 1380 - reward: 49\n",
      "Episode 1390 - reward: 51\n",
      "Episode 1400 - reward: 53\n",
      "Episode 1410 - reward: 50\n",
      "Episode 1420 - reward: 56\n",
      "Episode 1430 - reward: 53\n",
      "Episode 1440 - reward: 56\n",
      "Episode 1450 - reward: 53\n",
      "Episode 1460 - reward: 56\n",
      "Episode 1470 - reward: 53\n",
      "Episode 1480 - reward: 50\n",
      "Episode 1490 - reward: 60\n",
      "Episode 1500 - reward: 56\n",
      "CPU times: user 2min 9s, sys: 644 ms, total: 2min 10s\n",
      "Wall time: 1min 57s\n"
     ]
    }
   ],
   "source": [
    "%%time\n",
    "agent_TD_sh, performance_TD_sh = train_cartpole_A2C_shaped(n_epochs=1500, lr=5e-3, power=2, eps=0.01)"
   ]
  },
  {
   "cell_type": "code",
   "execution_count": 101,
   "metadata": {},
   "outputs": [
    {
     "data": {
      "text/plain": [
       "<matplotlib.collections.PathCollection at 0x7fe83ee64590>"
      ]
     },
     "execution_count": 101,
     "metadata": {},
     "output_type": "execute_result"
    },
    {
     "data": {
      "image/png": "[encoded data removed]",
      "text/plain": [
       "<Figure size 432x288 with 1 Axes>"
      ]
     },
     "metadata": {
      "needs_background": "light"
     },
     "output_type": "display_data"
    }
   ],
   "source": [
    "episodes = np.arange(1,len(performance_TD_sh)+1)\n",
    "plt.scatter(episodes, performance_TD_sh, s=2)"
   ]
  },
  {
   "cell_type": "code",
   "execution_count": 102,
   "metadata": {},
   "outputs": [],
   "source": [
    "render_test_episode(agent_TD_sh) "
   ]
  },
  {
   "cell_type": "code",
   "execution_count": 111,
   "metadata": {
    "scrolled": true
   },
   "outputs": [
    {
     "name": "stdout",
     "output_type": "stream",
     "text": [
      "Episode 10 - reward: 19\n",
      "Episode 20 - reward: 21\n",
      "Episode 30 - reward: 13\n",
      "Episode 40 - reward: 9\n",
      "Episode 50 - reward: 8\n",
      "Episode 60 - reward: 9\n",
      "Episode 70 - reward: 13\n",
      "Episode 80 - reward: 15\n",
      "Episode 90 - reward: 21\n",
      "Episode 100 - reward: 12\n",
      "Episode 110 - reward: 11\n",
      "Episode 120 - reward: 14\n",
      "Episode 130 - reward: 24\n",
      "Episode 140 - reward: 14\n",
      "Episode 150 - reward: 22\n",
      "Episode 160 - reward: 19\n",
      "Episode 170 - reward: 14\n",
      "Episode 180 - reward: 13\n",
      "Episode 190 - reward: 16\n",
      "Episode 200 - reward: 22\n",
      "Episode 210 - reward: 25\n",
      "Episode 220 - reward: 23\n",
      "Episode 230 - reward: 22\n",
      "Episode 240 - reward: 27\n",
      "Episode 250 - reward: 28\n",
      "Episode 260 - reward: 40\n",
      "Episode 270 - reward: 42\n",
      "Episode 280 - reward: 82\n",
      "Episode 290 - reward: 168\n",
      "Episode 300 - reward: 199\n",
      "Episode 310 - reward: 76\n",
      "Episode 320 - reward: 106\n",
      "Episode 330 - reward: 133\n",
      "Episode 340 - reward: 130\n",
      "Episode 350 - reward: 140\n",
      "Episode 360 - reward: 145\n",
      "Episode 370 - reward: 136\n",
      "Episode 380 - reward: 110\n",
      "Episode 390 - reward: 104\n",
      "Episode 400 - reward: 113\n",
      "Episode 410 - reward: 143\n",
      "Episode 420 - reward: 153\n",
      "Episode 430 - reward: 158\n",
      "Episode 440 - reward: 149\n",
      "Episode 450 - reward: 131\n",
      "Episode 460 - reward: 191\n",
      "Episode 470 - reward: 190\n",
      "Episode 480 - reward: 224\n",
      "Episode 490 - reward: 123\n",
      "Episode 500 - reward: 94\n",
      "Episode 510 - reward: 108\n",
      "Episode 520 - reward: 127\n",
      "Episode 530 - reward: 165\n",
      "Episode 540 - reward: 281\n",
      "Episode 550 - reward: 158\n",
      "Episode 560 - reward: 295\n",
      "Episode 570 - reward: 500\n",
      "Episode 580 - reward: 500\n",
      "Episode 590 - reward: 500\n",
      "Episode 600 - reward: 482\n",
      "Episode 610 - reward: 261\n",
      "Episode 620 - reward: 369\n",
      "Episode 630 - reward: 490\n",
      "Episode 640 - reward: 500\n",
      "Episode 650 - reward: 500\n",
      "Episode 660 - reward: 500\n",
      "Episode 670 - reward: 500\n",
      "Episode 680 - reward: 500\n",
      "Episode 690 - reward: 500\n",
      "Episode 700 - reward: 500\n",
      "Episode 710 - reward: 500\n",
      "Episode 720 - reward: 500\n",
      "Episode 730 - reward: 500\n",
      "Episode 740 - reward: 500\n",
      "Episode 750 - reward: 500\n",
      "Episode 760 - reward: 500\n",
      "Episode 770 - reward: 500\n",
      "Episode 780 - reward: 500\n",
      "Episode 790 - reward: 500\n",
      "Episode 800 - reward: 500\n",
      "Episode 810 - reward: 500\n",
      "Episode 820 - reward: 500\n",
      "Episode 830 - reward: 500\n",
      "Episode 840 - reward: 500\n",
      "Episode 850 - reward: 500\n",
      "Episode 860 - reward: 500\n",
      "Episode 870 - reward: 433\n",
      "Episode 880 - reward: 175\n",
      "Episode 890 - reward: 136\n",
      "Episode 900 - reward: 107\n",
      "Episode 910 - reward: 57\n",
      "Episode 920 - reward: 29\n",
      "Episode 930 - reward: 38\n",
      "Episode 940 - reward: 50\n",
      "Episode 950 - reward: 60\n",
      "Episode 960 - reward: 57\n",
      "Episode 970 - reward: 60\n",
      "Episode 980 - reward: 63\n",
      "Episode 990 - reward: 73\n",
      "Episode 1000 - reward: 67\n",
      "Episode 1010 - reward: 72\n",
      "Episode 1020 - reward: 56\n",
      "Episode 1030 - reward: 63\n",
      "Episode 1040 - reward: 67\n",
      "Episode 1050 - reward: 69\n",
      "Episode 1060 - reward: 63\n",
      "Episode 1070 - reward: 67\n",
      "Episode 1080 - reward: 89\n",
      "Episode 1090 - reward: 97\n",
      "Episode 1100 - reward: 164\n",
      "Episode 1110 - reward: 149\n",
      "Episode 1120 - reward: 247\n",
      "Episode 1130 - reward: 500\n",
      "Episode 1140 - reward: 500\n",
      "Episode 1150 - reward: 59\n",
      "Episode 1160 - reward: 7\n",
      "Episode 1170 - reward: 7\n",
      "Episode 1180 - reward: 7\n",
      "Episode 1190 - reward: 7\n",
      "Episode 1200 - reward: 7\n",
      "Episode 1210 - reward: 7\n",
      "Episode 1220 - reward: 7\n",
      "Episode 1230 - reward: 7\n",
      "Episode 1240 - reward: 7\n",
      "Episode 1250 - reward: 7\n",
      "Episode 1260 - reward: 7\n",
      "Episode 1270 - reward: 7\n",
      "Episode 1280 - reward: 7\n",
      "Episode 1290 - reward: 7\n",
      "Episode 1300 - reward: 7\n",
      "Episode 1310 - reward: 7\n",
      "Episode 1320 - reward: 7\n",
      "Episode 1330 - reward: 7\n",
      "Episode 1340 - reward: 7\n",
      "Episode 1350 - reward: 7\n",
      "Episode 1360 - reward: 7\n",
      "Episode 1370 - reward: 7\n",
      "Episode 1380 - reward: 7\n",
      "Episode 1390 - reward: 7\n",
      "Episode 1400 - reward: 7\n",
      "Episode 1410 - reward: 7\n",
      "Episode 1420 - reward: 7\n",
      "Episode 1430 - reward: 7\n",
      "Episode 1440 - reward: 7\n",
      "Episode 1450 - reward: 7\n",
      "Episode 1460 - reward: 7\n",
      "Episode 1470 - reward: 7\n",
      "Episode 1480 - reward: 7\n",
      "Episode 1490 - reward: 7\n",
      "Episode 1500 - reward: 7\n",
      "CPU times: user 3min 15s, sys: 648 ms, total: 3min 16s\n",
      "Wall time: 3min 3s\n"
     ]
    }
   ],
   "source": [
    "%%time\n",
    "agent_MC_sh, performance_MC_sh = train_cartpole_A2C_shaped(n_epochs=1500, lr=5e-3, power=2, eps=0.1)"
   ]
  },
  {
   "cell_type": "code",
   "execution_count": 112,
   "metadata": {},
   "outputs": [
    {
     "data": {
      "text/plain": [
       "<matplotlib.collections.PathCollection at 0x7fe83edb84d0>"
      ]
     },
     "execution_count": 112,
     "metadata": {},
     "output_type": "execute_result"
    },
    {
     "data": {
      "image/png": "[encoded data removed]",
      "text/plain": [
       "<Figure size 432x288 with 1 Axes>"
      ]
     },
     "metadata": {
      "needs_background": "light"
     },
     "output_type": "display_data"
    }
   ],
   "source": [
    "episodes = np.arange(1,len(performance_MC_sh)+1)\n",
    "plt.scatter(episodes, performance_MC_sh, s=2)"
   ]
  },
  {
   "cell_type": "code",
   "execution_count": 113,
   "metadata": {},
   "outputs": [],
   "source": [
    "render_test_episode(agent_MC_sh) "
   ]
  },
  {
   "cell_type": "markdown",
   "metadata": {},
   "source": [
    "**Final discussion:** It is undisputable that A2C setup is much better than a random policy, so it defenitely learns something correctly. I found it very unstable w.r.t. the learning rate and I suspect that a better tuning would require to differentiate between the one of the critic and the one of the actor.\n",
    "\n",
    "Since each training procedure is stochastic, every time the result is different, all other things been equal, so what I'm going to say next is not supported strongly by the data, but can verified if one has time using an ensemble of agents and averaging the performances at each epoch.\n",
    "\n",
    "What I observed is that:\n",
    "- the TD agent is more unstable than the MC one;\n",
    "- shaping the reward function changes a lot the results. I've done this in 2 ways: the first one is to give -1 instead of +1 to the last reward of an episode if the episode ends with the cartpole falling. This enables the agent to differentiate between an episode ended by truncation (good, it scored the maximum possible) or one in which it committed a sequence of non-optimal actions (bad, could have done better). The second one is similar but more sophisticated and is based on the idea of smoothing the reward, so that the responsability for failing the task gets shared in a weighted way by the last actions taken (with polynomial decay, whose power is a parameter of the model). I found that with these 2 changes the A2C with Monte Carlo estimation reached the maximum reward possible and was much more stable on that performance than all other configurations.\n",
    "\n",
    "Anyway there is always a source of instability causing sudden drops in performance during the training."
   ]
  }
 ],
 "metadata": {
  "kernelspec": {
   "display_name": "torch",
   "language": "python",
   "name": "torch"
  },
  "language_info": {
   "codemirror_mode": {
    "name": "ipython",
    "version": 3
   },
   "file_extension": ".py",
   "mimetype": "text/x-python",
   "name": "python",
   "nbconvert_exporter": "python",
   "pygments_lexer": "ipython3",
   "version": "3.7.6"
  }
 },
 "nbformat": 4,
 "nbformat_minor": 2
}
